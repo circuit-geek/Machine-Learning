{
 "cells": [
  {
   "cell_type": "code",
   "execution_count": 1,
   "id": "4fe7a55f",
   "metadata": {},
   "outputs": [],
   "source": [
    "from sklearn.neural_network import MLPClassifier"
   ]
  },
  {
   "cell_type": "code",
   "execution_count": 18,
   "id": "4d986c13",
   "metadata": {},
   "outputs": [],
   "source": [
    "X1 = [[0., 0], [0., 1.], [1., 0.], [1., 1.]]\n",
    "y1 = [0, 0, 0, 1]"
   ]
  },
  {
   "cell_type": "code",
   "execution_count": 19,
   "id": "1ea9f5c9",
   "metadata": {},
   "outputs": [],
   "source": [
    "clf = MLPClassifier(solver = 'lbfgs', alpha=1e-5, hidden_layer_sizes=(5,2), random_state=1)"
   ]
  },
  {
   "cell_type": "code",
   "execution_count": 20,
   "id": "174f8206",
   "metadata": {},
   "outputs": [
    {
     "name": "stdout",
     "output_type": "stream",
     "text": [
      "MLPClassifier(alpha=1e-05, hidden_layer_sizes=(5, 2), random_state=1,\n",
      "              solver='lbfgs')\n"
     ]
    }
   ],
   "source": [
    "print(clf.fit(X1, y1))"
   ]
  },
  {
   "cell_type": "code",
   "execution_count": 21,
   "id": "c1f76c61",
   "metadata": {},
   "outputs": [
    {
     "name": "stdout",
     "output_type": "stream",
     "text": [
      "[[-0.14203691 -1.18304359 -0.85567518 -4.53250719 -0.60466275]\n",
      " [-0.69781111 -3.5850093  -0.26436018 -4.39161248  0.06644423]]\n"
     ]
    }
   ],
   "source": [
    "print(clf.coefs_[0])"
   ]
  },
  {
   "cell_type": "code",
   "execution_count": 22,
   "id": "557c9001",
   "metadata": {},
   "outputs": [
    {
     "name": "stdout",
     "output_type": "stream",
     "text": [
      "[[ 0.29179638 -0.14155284]\n",
      " [ 4.02666592 -0.61556475]\n",
      " [-0.51677234  0.51479708]\n",
      " [ 7.37215202 -0.31936965]\n",
      " [ 0.32920668  0.64428109]]\n"
     ]
    }
   ],
   "source": [
    "print(clf.coefs_[1])"
   ]
  },
  {
   "cell_type": "code",
   "execution_count": 23,
   "id": "8cf29888",
   "metadata": {},
   "outputs": [
    {
     "name": "stdout",
     "output_type": "stream",
     "text": [
      "w0 =  -0.1420369126782716\n",
      "w1 =  -0.6978111149778672\n"
     ]
    }
   ],
   "source": [
    "print(\"w0 = \", clf.coefs_[0][0][0])\n",
    "print(\"w1 = \", clf.coefs_[0][1][0])"
   ]
  },
  {
   "cell_type": "code",
   "execution_count": 24,
   "id": "cdc8db03",
   "metadata": {},
   "outputs": [
    {
     "data": {
      "text/plain": [
       "array([-0.14203691, -0.69781111])"
      ]
     },
     "execution_count": 24,
     "metadata": {},
     "output_type": "execute_result"
    }
   ],
   "source": [
    "clf.coefs_[0][:,0]"
   ]
  },
  {
   "cell_type": "code",
   "execution_count": 25,
   "id": "25e02acf",
   "metadata": {},
   "outputs": [
    {
     "name": "stdout",
     "output_type": "stream",
     "text": [
      "0 0 [-0.14203691 -0.69781111], \n",
      "0 1 [-1.18304359 -3.5850093 ], \n",
      "0 2 [-0.85567518 -0.26436018], \n",
      "0 3 [-4.53250719 -4.39161248], \n",
      "0 4 [-0.60466275  0.06644423], \n",
      "\n",
      "1 0 [ 0.29179638  4.02666592 -0.51677234  7.37215202  0.32920668], \n",
      "1 1 [-0.14155284 -0.61556475  0.51479708 -0.31936965  0.64428109], \n",
      "\n",
      "2 0 [-4.96774269 -0.86330397], \n",
      "\n"
     ]
    }
   ],
   "source": [
    "for i in range(len(clf.coefs_)):\n",
    "    number_neurons_in_layer = clf.coefs_[i].shape[1]\n",
    "    for j in range(number_neurons_in_layer):\n",
    "        weights = clf.coefs_[i][:,j]\n",
    "        print(i,j, weights, end=\", \")\n",
    "        print()\n",
    "    print()"
   ]
  },
  {
   "cell_type": "code",
   "execution_count": 26,
   "id": "5d6fae45",
   "metadata": {},
   "outputs": [
    {
     "name": "stdout",
     "output_type": "stream",
     "text": [
      "[-0.14962269 -0.59232707 -0.5472481   7.02667699 -0.87510813]\n"
     ]
    }
   ],
   "source": [
    "print(clf.intercepts_[0])"
   ]
  },
  {
   "cell_type": "code",
   "execution_count": 27,
   "id": "b29cfcee",
   "metadata": {},
   "outputs": [
    {
     "name": "stdout",
     "output_type": "stream",
     "text": [
      "[-3.61417672 -0.76834882]\n"
     ]
    }
   ],
   "source": [
    "print(clf.intercepts_[1])"
   ]
  },
  {
   "cell_type": "code",
   "execution_count": 28,
   "id": "ff2e7a27",
   "metadata": {},
   "outputs": [],
   "source": [
    "values = [[0, 0], [0, 1], [1, 0], [0, 1], [1, 1], [2., 2.], [1.3, 1.3], [2, 4.8]]"
   ]
  },
  {
   "cell_type": "code",
   "execution_count": 29,
   "id": "ca6374d7",
   "metadata": {},
   "outputs": [
    {
     "name": "stdout",
     "output_type": "stream",
     "text": [
      "[0 0 0 0 1 1 1 1]\n"
     ]
    }
   ],
   "source": [
    "result = clf.predict(values)\n",
    "print(result)"
   ]
  },
  {
   "cell_type": "code",
   "execution_count": 30,
   "id": "25e28550",
   "metadata": {},
   "outputs": [
    {
     "name": "stdout",
     "output_type": "stream",
     "text": [
      "[[1.00000000e+000 5.25723951e-101]\n",
      " [1.00000000e+000 3.71534882e-031]\n",
      " [1.00000000e+000 6.47069178e-029]\n",
      " [1.00000000e+000 3.71534882e-031]\n",
      " [2.07145538e-004 9.99792854e-001]\n",
      " [2.07145538e-004 9.99792854e-001]\n",
      " [2.07145538e-004 9.99792854e-001]\n",
      " [2.07145538e-004 9.99792854e-001]]\n"
     ]
    }
   ],
   "source": [
    "proba_results = clf.predict_proba([[0, 0], [0, 1],\n",
    "                                  [1, 0], [0, 1],\n",
    "                                  [1, 1], [2., 2.],\n",
    "                                  [1.3 , 1.3], [2, 4.8]])\n",
    "print(proba_results)"
   ]
  },
  {
   "cell_type": "code",
   "execution_count": null,
   "id": "260feef1",
   "metadata": {},
   "outputs": [],
   "source": []
  }
 ],
 "metadata": {
  "kernelspec": {
   "display_name": "Python 3.8 (tensorflow)",
   "language": "python",
   "name": "tensorflow"
  },
  "language_info": {
   "codemirror_mode": {
    "name": "ipython",
    "version": 3
   },
   "file_extension": ".py",
   "mimetype": "text/x-python",
   "name": "python",
   "nbconvert_exporter": "python",
   "pygments_lexer": "ipython3",
   "version": "3.8.10"
  }
 },
 "nbformat": 4,
 "nbformat_minor": 5
}
