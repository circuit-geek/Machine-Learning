{
 "cells": [
  {
   "cell_type": "code",
   "execution_count": 1,
   "id": "89692a89",
   "metadata": {},
   "outputs": [],
   "source": [
    "import numpy as np\n",
    "import csv \n",
    "import matplotlib.pyplot as plt"
   ]
  },
  {
   "cell_type": "code",
   "execution_count": 7,
   "id": "0b8f9f47",
   "metadata": {},
   "outputs": [],
   "source": [
    "def loadCSV(filename):\n",
    "    \n",
    "    with open(filename,\"r\") as csvfile:\n",
    "        lines = csv.reader(csvfile)\n",
    "        dataset = list(lines)\n",
    "        for i in range(len(dataset)):\n",
    "            dataset[i] = [float(x) for x in dataset[i]]\n",
    "    return np.array(dataset)\n",
    "\n",
    "def normalize(X):\n",
    "    \n",
    "    mins = np.min(X, axis = 0)\n",
    "    maxs = np.max(X, axis = 0)\n",
    "    rng = maxs - mins\n",
    "    norm_X = 1 - ((maxs - X) / rng)\n",
    "    return norm_X\n",
    "\n",
    "def logistic_func(beta, X):\n",
    "    \n",
    "    return 1.0/(1+ np.exp(-np.dot(X, beta.T)))\n",
    "\n",
    "def log_gradient(beta, X, y):\n",
    "    \n",
    "    first_calc = logistic_func(beta, X) - y.reshape(X.shape[0], -1)\n",
    "    final_calc = np.dot(first_calc.T, X)\n",
    "    return final_calc\n"
   ]
  },
  {
   "cell_type": "code",
   "execution_count": 10,
   "id": "db17c4df",
   "metadata": {},
   "outputs": [],
   "source": [
    "def cost_func(beta, X, y):\n",
    "    \n",
    "    log_func_v = logistic_func(beta, X)\n",
    "    y = np.squeeze(y)\n",
    "    step1 = y * np.log(log_func_v)\n",
    "    step2 = (1 - y)* np.log(1 - log_func_v)\n",
    "    final = -step1 - step2\n",
    "    return np.mean(final)\n",
    "\n",
    "def grad_desc(X, y, beta, lr=0.01, converge_change=0.001):\n",
    "    \n",
    "    cost = cost_func(beta, X, y)\n",
    "    change_cost = 1\n",
    "    num_iter = 1\n",
    "    \n",
    "    while(change_cost > converge_change):\n",
    "        old_cost = cost\n",
    "        beta = beta - (lr * log_gradient(beta, X, y))\n",
    "        cost = cost_func(beta, X, y)\n",
    "        change_cost = old_cost - cost\n",
    "        num_iter += 1\n",
    "    return beta, num_iter"
   ]
  },
  {
   "cell_type": "code",
   "execution_count": 8,
   "id": "c59e5fac",
   "metadata": {},
   "outputs": [],
   "source": [
    "def pred_values(beta, X):\n",
    "    \n",
    "    pred_prob = logistic_func(beta, X)\n",
    "    pred_value = np.where(pred_prob >= 0.5, 1, 0)\n",
    "    return np.squeeze(pred_value)\n",
    "\n",
    "def plot_reg(X, y, beta):\n",
    "    \n",
    "    x_0 = X[np.where(y == 0.0)]\n",
    "    x_1 = X[np.where(y == 1.0)]\n",
    "    \n",
    "    import matplotlib.pyplot as plt\n",
    "    \n",
    "    plt.scatter(x_0[:, 0], x_0[:, 1], c='b', label='y = 0')\n",
    "    plt.scatter(x_1[:, 0], x_1[:, 1], c='r', label='y = 1')\n",
    "    \n",
    "    x1 = np.arange(0, 1, 0.1)\n",
    "    x2 = -(beta[0,0] + beta[0,1]*x1)/beta[0,2]\n",
    "    plt.plot(x1,x2, c='k', label='reg line')\n",
    "    plt.xlabel('x1')\n",
    "    plt.ylabel('x2')\n",
    "    plt.legend()\n",
    "    plt.show()"
   ]
  },
  {
   "cell_type": "code",
   "execution_count": 9,
   "id": "1ec905da",
   "metadata": {},
   "outputs": [
    {
     "name": "stdout",
     "output_type": "stream",
     "text": [
      "Estimated regression coefficients: [[  1.70474504  15.04062212 -20.47216021]]\n",
      "No of iterations: 2612\n",
      "Correctly predicted labels: 100\n"
     ]
    },
    {
     "data": {
      "image/png": "[encoded data removed]",
      "text/plain": [
       "<Figure size 432x288 with 1 Axes>"
      ]
     },
     "metadata": {
      "needs_background": "light"
     },
     "output_type": "display_data"
    }
   ],
   "source": [
    "if __name__ == \"__main__\":\n",
    "    dataset = loadCSV('dataset1.csv')\n",
    "    \n",
    "    X = normalize(dataset[:, :-1])\n",
    "    X2 = X\n",
    "    \n",
    "    X1 = np.hstack((np.matrix(np.ones(X.shape[0])).T, X))\n",
    "    \n",
    "    y = dataset[:, -1]\n",
    "    \n",
    "    beta = np.matrix(np.zeros(X1.shape[1]))\n",
    "    \n",
    "    beta1, num_iter = grad_desc(X1, y, beta)\n",
    "    \n",
    "    print(\"Estimated regression coefficients:\", beta1)\n",
    "    print(\"No of iterations:\", num_iter)\n",
    "    \n",
    "    y_pred = pred_values(beta1, X1)\n",
    "    \n",
    "    print('Correctly predicted labels:', np.sum(y == y_pred))\n",
    "    \n",
    "    plot_reg(X2, y, beta1)"
   ]
  },
  {
   "cell_type": "code",
   "execution_count": null,
   "id": "2f020637",
   "metadata": {},
   "outputs": [],
   "source": []
  }
 ],
 "metadata": {
  "kernelspec": {
   "display_name": "Python 3.8 (tensorflow)",
   "language": "python",
   "name": "tensorflow"
  },
  "language_info": {
   "codemirror_mode": {
    "name": "ipython",
    "version": 3
   },
   "file_extension": ".py",
   "mimetype": "text/x-python",
   "name": "python",
   "nbconvert_exporter": "python",
   "pygments_lexer": "ipython3",
   "version": "3.8.10"
  }
 },
 "nbformat": 4,
 "nbformat_minor": 5
}
