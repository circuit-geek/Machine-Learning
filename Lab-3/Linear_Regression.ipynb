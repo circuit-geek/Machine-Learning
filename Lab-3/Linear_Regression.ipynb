{
 "cells": [
  {
   "cell_type": "code",
   "execution_count": 2,
   "id": "c2a2a69a",
   "metadata": {},
   "outputs": [],
   "source": [
    "import numpy as np\n",
    "import matplotlib.pyplot as plt\n",
    "from sklearn.linear_model import LinearRegression\n",
    "from sklearn.metrics import mean_squared_error, r2_score"
   ]
  },
  {
   "cell_type": "code",
   "execution_count": 4,
   "id": "4ae88bc3",
   "metadata": {},
   "outputs": [
    {
     "name": "stdout",
     "output_type": "stream",
     "text": [
      "5\n"
     ]
    }
   ],
   "source": [
    "x = np.array([1,2,3,4,5])\n",
    "y = np.array([7,14,15,18,19])\n",
    "n = np.size(x)\n",
    "print(n)"
   ]
  },
  {
   "cell_type": "code",
   "execution_count": 5,
   "id": "fdbe2110",
   "metadata": {},
   "outputs": [
    {
     "name": "stdout",
     "output_type": "stream",
     "text": [
      "3.0 14.6\n"
     ]
    }
   ],
   "source": [
    "x_mean = np.mean(x)\n",
    "y_mean = np.mean(y)\n",
    "print(x_mean, y_mean)"
   ]
  },
  {
   "cell_type": "code",
   "execution_count": 6,
   "id": "b2fa0440",
   "metadata": {},
   "outputs": [
    {
     "name": "stdout",
     "output_type": "stream",
     "text": [
      "28.0 10.0\n"
     ]
    }
   ],
   "source": [
    "Sxy = np.sum(x*y) - n*x_mean*y_mean\n",
    "Sxx = np.sum(x*x) - n*x_mean*x_mean\n",
    "\n",
    "print(Sxy, Sxx)"
   ]
  },
  {
   "cell_type": "code",
   "execution_count": 10,
   "id": "4176715d",
   "metadata": {},
   "outputs": [
    {
     "name": "stdout",
     "output_type": "stream",
     "text": [
      "Slope is: 2.8\n",
      "Intercept is: 6.200000000000001\n"
     ]
    }
   ],
   "source": [
    "b1 = Sxy/Sxx\n",
    "b0 = y_mean-b1*x_mean\n",
    "\n",
    "print('Slope is:', b1)\n",
    "print('Intercept is:', b0)"
   ]
  },
  {
   "cell_type": "code",
   "execution_count": 8,
   "id": "0081af21",
   "metadata": {},
   "outputs": [],
   "source": [
    "%matplotlib inline"
   ]
  },
  {
   "cell_type": "code",
   "execution_count": 9,
   "id": "98770280",
   "metadata": {},
   "outputs": [
    {
     "data": {
      "text/plain": [
       "Text(0, 0.5, 'Dependent variable y')"
      ]
     },
     "execution_count": 9,
     "metadata": {},
     "output_type": "execute_result"
    },
    {
     "data": {
      "image/png": "[encoded data removed]",
      "text/plain": [
       "<Figure size 432x288 with 1 Axes>"
      ]
     },
     "metadata": {
      "needs_background": "light"
     },
     "output_type": "display_data"
    }
   ],
   "source": [
    "plt.scatter(x,y)\n",
    "plt.xlabel('Independent variable x')\n",
    "plt.ylabel('Dependent variable y')"
   ]
  },
  {
   "cell_type": "code",
   "execution_count": 11,
   "id": "7c19799c",
   "metadata": {},
   "outputs": [
    {
     "data": {
      "text/plain": [
       "Text(0, 0.5, 'y')"
      ]
     },
     "execution_count": 11,
     "metadata": {},
     "output_type": "execute_result"
    },
    {
     "data": {
      "image/png": "[encoded data removed]",
      "text/plain": [
       "<Figure size 432x288 with 1 Axes>"
      ]
     },
     "metadata": {
      "needs_background": "light"
     },
     "output_type": "display_data"
    }
   ],
   "source": [
    "y_pred = b1 * x + b0\n",
    "\n",
    "plt.scatter(x, y, color = 'red')\n",
    "plt.plot(x, y_pred, color = 'green')\n",
    "plt.xlabel('x')\n",
    "plt.ylabel('y')"
   ]
  },
  {
   "cell_type": "code",
   "execution_count": 12,
   "id": "1a42caf7",
   "metadata": {},
   "outputs": [
    {
     "name": "stdout",
     "output_type": "stream",
     "text": [
      "squared error is: 10.800000000000004\n"
     ]
    }
   ],
   "source": [
    "error = y - y_pred\n",
    "se = np.sum(error**2)\n",
    "print('squared error is:', se)"
   ]
  },
  {
   "cell_type": "code",
   "execution_count": 13,
   "id": "233e0973",
   "metadata": {},
   "outputs": [
    {
     "name": "stdout",
     "output_type": "stream",
     "text": [
      "mean squared error is: 2.160000000000001\n"
     ]
    }
   ],
   "source": [
    "mse = se/n\n",
    "print('mean squared error is:', mse)"
   ]
  },
  {
   "cell_type": "code",
   "execution_count": 14,
   "id": "d9613b96",
   "metadata": {},
   "outputs": [
    {
     "name": "stdout",
     "output_type": "stream",
     "text": [
      "root mean squared error is: 1.4696938456699071\n"
     ]
    }
   ],
   "source": [
    "rmse = np.sqrt(mse)\n",
    "print('root mean squared error is:', rmse)"
   ]
  },
  {
   "cell_type": "code",
   "execution_count": 15,
   "id": "fa82c5d8",
   "metadata": {},
   "outputs": [
    {
     "name": "stdout",
     "output_type": "stream",
     "text": [
      "R square is: 0.8789237668161435\n"
     ]
    }
   ],
   "source": [
    "sst = np.sum((y - y_mean)** 2)\n",
    "r2 = 1 - (se/sst)\n",
    "print('R square is:', r2)"
   ]
  },
  {
   "cell_type": "code",
   "execution_count": 16,
   "id": "dff4ec9d",
   "metadata": {},
   "outputs": [],
   "source": [
    "x = x.reshape(-1, 1)\n",
    "regression_model = LinearRegression()"
   ]
  },
  {
   "cell_type": "code",
   "execution_count": 18,
   "id": "cb6ad713",
   "metadata": {},
   "outputs": [
    {
     "data": {
      "text/plain": [
       "LinearRegression()"
      ]
     },
     "execution_count": 18,
     "metadata": {},
     "output_type": "execute_result"
    }
   ],
   "source": [
    "regression_model.fit(x, y)"
   ]
  },
  {
   "cell_type": "code",
   "execution_count": 19,
   "id": "44df5307",
   "metadata": {},
   "outputs": [],
   "source": [
    "y_predict = regression_model.predict(x)"
   ]
  },
  {
   "cell_type": "code",
   "execution_count": 20,
   "id": "4971d0e3",
   "metadata": {},
   "outputs": [
    {
     "name": "stdout",
     "output_type": "stream",
     "text": [
      "MSE using sci-kit learn is: 2.160000000000001\n"
     ]
    }
   ],
   "source": [
    "mse_fun = mean_squared_error(y, y_predict)\n",
    "print('MSE using sci-kit learn is:', mse_fun)"
   ]
  },
  {
   "cell_type": "code",
   "execution_count": 21,
   "id": "2948f905",
   "metadata": {},
   "outputs": [
    {
     "name": "stdout",
     "output_type": "stream",
     "text": [
      "RMSE using sci-kit learn is: 1.4696938456699071\n"
     ]
    }
   ],
   "source": [
    "rmse_fun = np.sqrt(mean_squared_error(y, y_predict))\n",
    "print('RMSE using sci-kit learn is:', rmse_fun)"
   ]
  },
  {
   "cell_type": "code",
   "execution_count": 22,
   "id": "89ab80bb",
   "metadata": {},
   "outputs": [
    {
     "name": "stdout",
     "output_type": "stream",
     "text": [
      "R2 score using sci-kit learn is: 0.8789237668161435\n"
     ]
    }
   ],
   "source": [
    "r2_fun = r2_score(y, y_predict)\n",
    "print('R2 score using sci-kit learn is:', r2_fun)"
   ]
  },
  {
   "cell_type": "code",
   "execution_count": 23,
   "id": "d299a575",
   "metadata": {},
   "outputs": [
    {
     "name": "stdout",
     "output_type": "stream",
     "text": [
      "Slope is: [2.8]\n",
      "Intercept is: 6.1999999999999975\n"
     ]
    }
   ],
   "source": [
    "print('Slope is:', regression_model.coef_)\n",
    "print('Intercept is:', regression_model.intercept_)"
   ]
  },
  {
   "cell_type": "code",
   "execution_count": null,
   "id": "e62d215f",
   "metadata": {},
   "outputs": [],
   "source": []
  }
 ],
 "metadata": {
  "kernelspec": {
   "display_name": "Python 3.8 (tensorflow)",
   "language": "python",
   "name": "tensorflow"
  },
  "language_info": {
   "codemirror_mode": {
    "name": "ipython",
    "version": 3
   },
   "file_extension": ".py",
   "mimetype": "text/x-python",
   "name": "python",
   "nbconvert_exporter": "python",
   "pygments_lexer": "ipython3",
   "version": "3.8.10"
  }
 },
 "nbformat": 4,
 "nbformat_minor": 5
}
