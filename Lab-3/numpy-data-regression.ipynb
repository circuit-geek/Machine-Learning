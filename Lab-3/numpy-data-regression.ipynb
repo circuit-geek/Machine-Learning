{
 "cells": [
  {
   "cell_type": "code",
   "execution_count": 1,
   "id": "5fe0dfce",
   "metadata": {},
   "outputs": [],
   "source": [
    "import numpy as np \n",
    "import matplotlib.pyplot as plt\n",
    "from sklearn.linear_model import LinearRegression\n",
    "from sklearn.metrics  import mean_squared_error, r2_score"
   ]
  },
  {
   "cell_type": "code",
   "execution_count": 2,
   "id": "41fd85ba",
   "metadata": {},
   "outputs": [],
   "source": [
    "x = np.array([1,2,3,4,5])\n",
    "y = np.array([7,14,15,18,19])\n",
    "n = np.size(x)"
   ]
  },
  {
   "cell_type": "code",
   "execution_count": 3,
   "id": "a15e297b",
   "metadata": {},
   "outputs": [
    {
     "data": {
      "text/plain": [
       "array([1, 2, 3, 4, 5])"
      ]
     },
     "execution_count": 3,
     "metadata": {},
     "output_type": "execute_result"
    }
   ],
   "source": [
    "x"
   ]
  },
  {
   "cell_type": "code",
   "execution_count": 4,
   "id": "ab71b19c",
   "metadata": {},
   "outputs": [],
   "source": [
    "x = x. reshape(-1,1)\n",
    "regression_model = LinearRegression ()"
   ]
  },
  {
   "cell_type": "code",
   "execution_count": 5,
   "id": "1dcdeeaa",
   "metadata": {},
   "outputs": [
    {
     "data": {
      "text/plain": [
       "LinearRegression()"
      ]
     },
     "execution_count": 5,
     "metadata": {},
     "output_type": "execute_result"
    }
   ],
   "source": [
    "# Fit the data (train the model) \n",
    "regression_model.fit(x, y)"
   ]
  },
  {
   "cell_type": "code",
   "execution_count": 6,
   "id": "c3a96ba8",
   "metadata": {},
   "outputs": [
    {
     "data": {
      "text/plain": [
       "array([[1],\n",
       "       [2],\n",
       "       [3],\n",
       "       [4],\n",
       "       [5]])"
      ]
     },
     "execution_count": 6,
     "metadata": {},
     "output_type": "execute_result"
    }
   ],
   "source": [
    "x"
   ]
  },
  {
   "cell_type": "code",
   "execution_count": 7,
   "id": "ff2db051",
   "metadata": {},
   "outputs": [],
   "source": [
    "# Predict\n",
    "y_predicted = regression_model.predict(x)"
   ]
  },
  {
   "cell_type": "code",
   "execution_count": 8,
   "id": "33381af1",
   "metadata": {},
   "outputs": [
    {
     "name": "stdout",
     "output_type": "stream",
     "text": [
      "Slope: [2.8]\n",
      "Intercept: 6.1999999999999975\n",
      "MSE: 2.160000000000001\n",
      "Root mean squared error:  1.4696938456699071\n",
      "R2 score:  0.8789237668161435\n"
     ]
    }
   ],
   "source": [
    "# model evaluation\n",
    "mse=mean_squared_error(y,y_predicted)\n",
    "rmse = np.sqrt(mean_squared_error(y, y_predicted))\n",
    "r2 = r2_score(y, y_predicted)\n",
    "\n",
    "#printing values\n",
    "print('Slope:', regression_model.coef_) \n",
    "print('Intercept:', regression_model.intercept_)\n",
    "print('MSE:', mse)\n",
    "print('Root mean squared error: ', rmse)\n",
    "print('R2 score: ', r2)"
   ]
  },
  {
   "cell_type": "code",
   "execution_count": null,
   "id": "560295cb",
   "metadata": {},
   "outputs": [],
   "source": []
  }
 ],
 "metadata": {
  "kernelspec": {
   "display_name": "Python 3.8 (tensorflow)",
   "language": "python",
   "name": "tensorflow"
  },
  "language_info": {
   "codemirror_mode": {
    "name": "ipython",
    "version": 3
   },
   "file_extension": ".py",
   "mimetype": "text/x-python",
   "name": "python",
   "nbconvert_exporter": "python",
   "pygments_lexer": "ipython3",
   "version": "3.8.10"
  }
 },
 "nbformat": 4,
 "nbformat_minor": 5
}
