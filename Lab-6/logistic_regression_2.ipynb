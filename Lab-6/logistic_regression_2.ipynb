{
  "nbformat": 4,
  "nbformat_minor": 0,
  "metadata": {
    "colab": {
      "name": "logistic-regression-2.ipynb",
      "provenance": []
    },
    "kernelspec": {
      "name": "python3",
      "display_name": "Python 3"
    },
    "language_info": {
      "name": "python"
    }
  },
  "cells": [
    {
      "cell_type": "code",
      "metadata": {
        "id": "StzYWIko7vAm"
      },
      "source": [
        "import numpy as np\n",
        "import pandas as pd\n",
        "from sklearn.model_selection import train_test_split\n",
        "import warnings\n",
        "warnings.filterwarnings(\"ignore\")\n",
        "\n",
        "from sklearn.linear_model import LogisticRegression\n",
        "class LogitRegression():\n",
        "  def __init__(self,learning_rate,iterations):\n",
        "    self.learning_rate=learning_rate\n",
        "    self.iterations=iterations\n",
        "  def fit(self,X,Y):\n",
        "    self.m,self.n=X.shape\n",
        "    self.W=np.zeros(self.n)\n",
        "    self.b=0\n",
        "    self.X=X\n",
        "    self.Y=Y\n",
        "\n",
        "    for i in range(self.iterations):\n",
        "      self.update_weights()\n",
        "    return self\n",
        "\n",
        "  def update_weights(self):\n",
        "    A=1/(1+np.exp(-(self.X.dot(self.W)+self.b)))\n",
        "    tmp=(A-self.Y.T)\n",
        "    tmp=np.reshape(tmp,self.m)\n",
        "    dW=np.dot(self.X.T,tmp)/self.m\n",
        "    db=np.sum(tmp)/self.m\n",
        "\n",
        "    self.W=self.W-self.learning_rate*dW\n",
        "    self.b=self.b-self.learning_rate*db\n",
        "    return self\n",
        "\n",
        "  def predict( self, X ) :\n",
        "        Z = 1 / (1+ np.exp(- (X.dot( self.W) + self.b ) ) )\n",
        "        Y = np.where( Z> 0.5, 1, 0 )\n",
        "        return Y,Z"
      ],
      "execution_count": 1,
      "outputs": []
    },
    {
      "cell_type": "code",
      "metadata": {
        "colab": {
          "base_uri": "https://localhost:8080/"
        },
        "id": "EbiIMQFK-jbR",
        "outputId": "3b56615f-2b86-4613-c8e6-68050ff40dc6"
      },
      "source": [
        "df=pd.read_csv('diabetes.csv')\n",
        "X=df.iloc[:,:-1].values\n",
        "Y = df.iloc[:, -1:].values\n",
        "# Splitting dataset into train and test set\n",
        "X_train, X_test, Y_train, Y_test = train_test_split( X, Y, test_size = 1/3, random_state = 4 )\n",
        "# Model training\n",
        "model= LogitRegression(learning_rate= 0.01, iterations = 1000)\n",
        "model.fit( X_train, Y_train )\n",
        "model1 = LogisticRegression()\n",
        "model1.fit( X_train, Y_train)\n",
        "#Prediction on test set\n",
        "Y_pred,Z_pred=model.predict( X_test )\n",
        "Y_pred1 =model1.predict( X_test )\n",
        "\n",
        "correctly_classified = 0\n",
        "correctly_classified1 = 0\n",
        "\n",
        "# counter\n",
        "count = 0\n",
        "\n",
        "for count in range( np.size(Y_pred ) ) :\n",
        "    if Y_test[count] ==Y_pred[count] :\n",
        "        correctly_classified = correctly_classified + 1\n",
        "    if Y_test[count] == Y_pred1 [count] :\n",
        "        correctly_classified1 = correctly_classified1 + 1\n",
        "    count = count + 1\n",
        "print(\"Accuracy on test set by our model  :\",(correctly_classified / count ) * 100 ) \n",
        "print(\"Accuracy on test set by sklearn model   :\",(correctly_classified1 / count ) * 100 )"
      ],
      "execution_count": 2,
      "outputs": [
        {
          "output_type": "stream",
          "name": "stdout",
          "text": [
            "Accuracy on test set by our model  : 47.22222222222222\n",
            "Accuracy on test set by sklearn model   : 72.22222222222221\n"
          ]
        }
      ]
    },
    {
      "cell_type": "code",
      "metadata": {
        "colab": {
          "base_uri": "https://localhost:8080/"
        },
        "id": "XKlmLWN4HE5o",
        "outputId": "2080b148-753c-4a9a-f94c-8478ca5343c2"
      },
      "source": [
        "Y_pred"
      ],
      "execution_count": 3,
      "outputs": [
        {
          "output_type": "execute_result",
          "data": {
            "text/plain": [
              "array([0, 0, 0, 0, 0, 0, 0, 0, 0, 0, 0, 0, 1, 0, 0, 0, 0, 0, 0, 0, 0, 0,\n",
              "       0, 0, 0, 0, 1, 0, 1, 0, 0, 1, 0, 0, 0, 0])"
            ]
          },
          "metadata": {},
          "execution_count": 3
        }
      ]
    },
    {
      "cell_type": "code",
      "metadata": {
        "colab": {
          "base_uri": "https://localhost:8080/"
        },
        "id": "Qg6g2erWVZ6-",
        "outputId": "13ee5d0c-4b56-4aaf-86f7-3c6b406ff9fe"
      },
      "source": [
        "Z_pred"
      ],
      "execution_count": 4,
      "outputs": [
        {
          "output_type": "execute_result",
          "data": {
            "text/plain": [
              "array([1.13283651e-08, 2.68278414e-21, 5.51206727e-08, 1.17426619e-16,\n",
              "       1.90107875e-22, 1.55188536e-18, 3.28817430e-20, 2.56905569e-27,\n",
              "       6.88498194e-21, 1.07704189e-18, 1.23462100e-05, 1.83223532e-17,\n",
              "       9.98657696e-01, 1.49570099e-15, 3.33788132e-16, 1.08006672e-13,\n",
              "       1.72732646e-17, 1.99043901e-05, 1.73890554e-14, 1.03219573e-11,\n",
              "       1.53628834e-14, 1.12337807e-12, 3.35430031e-13, 1.22830308e-19,\n",
              "       1.57822059e-08, 3.13587681e-13, 9.81641878e-01, 5.24645386e-15,\n",
              "       9.99981268e-01, 1.25277468e-30, 2.12681374e-13, 9.99989615e-01,\n",
              "       1.10614524e-11, 8.04633010e-07, 7.55961032e-12, 1.87557662e-22])"
            ]
          },
          "metadata": {},
          "execution_count": 4
        }
      ]
    },
    {
      "cell_type": "code",
      "metadata": {
        "id": "_JWiEaOSVbOV"
      },
      "source": [
        "from sklearn.metrics import confusion_matrix\n",
        "from sklearn.metrics import accuracy_score\n",
        "from sklearn.metrics import classification_report\n",
        "from sklearn.metrics import roc_auc_score\n",
        "from sklearn.metrics import log_loss"
      ],
      "execution_count": 5,
      "outputs": []
    },
    {
      "cell_type": "code",
      "metadata": {
        "colab": {
          "base_uri": "https://localhost:8080/"
        },
        "id": "9QekZtmFWWl8",
        "outputId": "fdcef356-5600-48e5-90e7-5cd2e836450a"
      },
      "source": [
        "results=confusion_matrix(Y_test,Y_pred)\n",
        "print('confusion matrix:')\n",
        "print(results)"
      ],
      "execution_count": 6,
      "outputs": [
        {
          "output_type": "stream",
          "name": "stdout",
          "text": [
            "confusion matrix:\n",
            "[[17  4]\n",
            " [15  0]]\n"
          ]
        }
      ]
    },
    {
      "cell_type": "code",
      "metadata": {
        "colab": {
          "base_uri": "https://localhost:8080/"
        },
        "id": "E-4yO3jbWoEG",
        "outputId": "644e7796-60e4-416f-a140-116376810b93"
      },
      "source": [
        "print('Accuracy score is :',accuracy_score(Y_test,Y_pred))"
      ],
      "execution_count": 7,
      "outputs": [
        {
          "output_type": "stream",
          "name": "stdout",
          "text": [
            "Accuracy score is : 0.4722222222222222\n"
          ]
        }
      ]
    },
    {
      "cell_type": "code",
      "metadata": {
        "colab": {
          "base_uri": "https://localhost:8080/"
        },
        "id": "PS6w_cuVW5M-",
        "outputId": "1569354e-ab49-4578-a1b4-3b0feac9fd1c"
      },
      "source": [
        "print('classification report is :',classification_report(Y_test,Y_pred))"
      ],
      "execution_count": 8,
      "outputs": [
        {
          "output_type": "stream",
          "name": "stdout",
          "text": [
            "classification report is :               precision    recall  f1-score   support\n",
            "\n",
            "           0       0.53      0.81      0.64        21\n",
            "           1       0.00      0.00      0.00        15\n",
            "\n",
            "    accuracy                           0.47        36\n",
            "   macro avg       0.27      0.40      0.32        36\n",
            "weighted avg       0.31      0.47      0.37        36\n",
            "\n"
          ]
        }
      ]
    },
    {
      "cell_type": "code",
      "metadata": {
        "colab": {
          "base_uri": "https://localhost:8080/"
        },
        "id": "B_CvUmmmXEA0",
        "outputId": "0a774430-a789-4e11-e2d9-d41640c659a3"
      },
      "source": [
        "print('AUC-ROC :',roc_auc_score(Y_test,Y_pred))"
      ],
      "execution_count": 9,
      "outputs": [
        {
          "output_type": "stream",
          "name": "stdout",
          "text": [
            "AUC-ROC : 0.40476190476190477\n"
          ]
        }
      ]
    },
    {
      "cell_type": "code",
      "metadata": {
        "colab": {
          "base_uri": "https://localhost:8080/"
        },
        "id": "fIQAKhN3XR6y",
        "outputId": "d15891eb-5e78-4701-9ce2-01b79ed9217c"
      },
      "source": [
        "print('logloss :',log_loss(Y_test,Y_pred))"
      ],
      "execution_count": 10,
      "outputs": [
        {
          "output_type": "stream",
          "name": "stdout",
          "text": [
            "logloss : 18.22888749702844\n"
          ]
        }
      ]
    },
    {
      "cell_type": "code",
      "metadata": {
        "id": "7gBQ3QakXYKu"
      },
      "source": [
        ""
      ],
      "execution_count": null,
      "outputs": []
    }
  ]
}